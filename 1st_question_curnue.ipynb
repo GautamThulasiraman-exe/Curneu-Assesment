{
  "nbformat": 4,
  "nbformat_minor": 0,
  "metadata": {
    "kernelspec": {
      "display_name": "Python 3",
      "language": "python",
      "name": "python3"
    },
    "language_info": {
      "codemirror_mode": {
        "name": "ipython",
        "version": 3
      },
      "file_extension": ".py",
      "mimetype": "text/x-python",
      "name": "python",
      "nbconvert_exporter": "python",
      "pygments_lexer": "ipython3",
      "version": "3.7.1"
    },
    "colab": {
      "name": "1st question curnue.ipynb",
      "provenance": []
    }
  },
  "cells": [
    {
      "cell_type": "markdown",
      "metadata": {
        "id": "umajkrhdIfyN"
      },
      "source": [
        "# Importing Pandas library to create a Dataframe"
      ]
    },
    {
      "cell_type": "code",
      "metadata": {
        "id": "X_-Tff5PIfzC"
      },
      "source": [
        "import pandas as pd \r\n",
        "import matplotlib.pyplot as plt\r\n",
        "\r\n"
      ],
      "execution_count": 29,
      "outputs": []
    },
    {
      "cell_type": "markdown",
      "metadata": {
        "id": "81xvMjo8IfzE"
      },
      "source": [
        " Reading a data from txt file \n",
        " Can use either read_csv method or read_table method\n",
        " While using csv, mention sep as '\\t'"
      ]
    },
    {
      "cell_type": "code",
      "metadata": {
        "id": "z8cyo-8MIfzG"
      },
      "source": [
        "df = pd.read_excel('fruits.xlsx')"
      ],
      "execution_count": 17,
      "outputs": []
    },
    {
      "cell_type": "code",
      "metadata": {
        "colab": {
          "base_uri": "https://localhost:8080/",
          "height": 204
        },
        "id": "VZ0LOa9wIfzG",
        "outputId": "2ef0f58f-427c-4f95-c994-4f3617e2baa5"
      },
      "source": [
        "df.head()"
      ],
      "execution_count": 19,
      "outputs": [
        {
          "output_type": "execute_result",
          "data": {
            "text/html": [
              "<div>\n",
              "<style scoped>\n",
              "    .dataframe tbody tr th:only-of-type {\n",
              "        vertical-align: middle;\n",
              "    }\n",
              "\n",
              "    .dataframe tbody tr th {\n",
              "        vertical-align: top;\n",
              "    }\n",
              "\n",
              "    .dataframe thead th {\n",
              "        text-align: right;\n",
              "    }\n",
              "</style>\n",
              "<table border=\"1\" class=\"dataframe\">\n",
              "  <thead>\n",
              "    <tr style=\"text-align: right;\">\n",
              "      <th></th>\n",
              "      <th>fruit_label</th>\n",
              "      <th>fruit_name</th>\n",
              "      <th>mass</th>\n",
              "      <th>width</th>\n",
              "      <th>height</th>\n",
              "      <th>color_score</th>\n",
              "    </tr>\n",
              "  </thead>\n",
              "  <tbody>\n",
              "    <tr>\n",
              "      <th>0</th>\n",
              "      <td>1</td>\n",
              "      <td>apple</td>\n",
              "      <td>192</td>\n",
              "      <td>8.4</td>\n",
              "      <td>7.3</td>\n",
              "      <td>0.55</td>\n",
              "    </tr>\n",
              "    <tr>\n",
              "      <th>1</th>\n",
              "      <td>1</td>\n",
              "      <td>apple</td>\n",
              "      <td>180</td>\n",
              "      <td>8.0</td>\n",
              "      <td>6.8</td>\n",
              "      <td>0.59</td>\n",
              "    </tr>\n",
              "    <tr>\n",
              "      <th>2</th>\n",
              "      <td>1</td>\n",
              "      <td>apple</td>\n",
              "      <td>176</td>\n",
              "      <td>7.4</td>\n",
              "      <td>7.2</td>\n",
              "      <td>0.60</td>\n",
              "    </tr>\n",
              "    <tr>\n",
              "      <th>3</th>\n",
              "      <td>2</td>\n",
              "      <td>mandarin</td>\n",
              "      <td>86</td>\n",
              "      <td>6.2</td>\n",
              "      <td>4.7</td>\n",
              "      <td>0.80</td>\n",
              "    </tr>\n",
              "    <tr>\n",
              "      <th>4</th>\n",
              "      <td>2</td>\n",
              "      <td>mandarin</td>\n",
              "      <td>84</td>\n",
              "      <td>6.0</td>\n",
              "      <td>4.6</td>\n",
              "      <td>0.79</td>\n",
              "    </tr>\n",
              "  </tbody>\n",
              "</table>\n",
              "</div>"
            ],
            "text/plain": [
              "   fruit_label fruit_name  mass  width  height  color_score\n",
              "0            1      apple   192    8.4     7.3         0.55\n",
              "1            1      apple   180    8.0     6.8         0.59\n",
              "2            1      apple   176    7.4     7.2         0.60\n",
              "3            2   mandarin    86    6.2     4.7         0.80\n",
              "4            2   mandarin    84    6.0     4.6         0.79"
            ]
          },
          "metadata": {
            "tags": []
          },
          "execution_count": 19
        }
      ]
    },
    {
      "cell_type": "markdown",
      "metadata": {
        "id": "Ux35t_wYIfzS"
      },
      "source": [
        "# Data Analysis"
      ]
    },
    {
      "cell_type": "code",
      "metadata": {
        "colab": {
          "base_uri": "https://localhost:8080/",
          "height": 297
        },
        "id": "quKCQhHkIfzT",
        "outputId": "e48f4ac1-49f0-459d-dafc-5fb71fc1eb94"
      },
      "source": [
        "df.describe()"
      ],
      "execution_count": 20,
      "outputs": [
        {
          "output_type": "execute_result",
          "data": {
            "text/html": [
              "<div>\n",
              "<style scoped>\n",
              "    .dataframe tbody tr th:only-of-type {\n",
              "        vertical-align: middle;\n",
              "    }\n",
              "\n",
              "    .dataframe tbody tr th {\n",
              "        vertical-align: top;\n",
              "    }\n",
              "\n",
              "    .dataframe thead th {\n",
              "        text-align: right;\n",
              "    }\n",
              "</style>\n",
              "<table border=\"1\" class=\"dataframe\">\n",
              "  <thead>\n",
              "    <tr style=\"text-align: right;\">\n",
              "      <th></th>\n",
              "      <th>fruit_label</th>\n",
              "      <th>mass</th>\n",
              "      <th>width</th>\n",
              "      <th>height</th>\n",
              "      <th>color_score</th>\n",
              "    </tr>\n",
              "  </thead>\n",
              "  <tbody>\n",
              "    <tr>\n",
              "      <th>count</th>\n",
              "      <td>59.000000</td>\n",
              "      <td>59.000000</td>\n",
              "      <td>59.000000</td>\n",
              "      <td>59.000000</td>\n",
              "      <td>59.000000</td>\n",
              "    </tr>\n",
              "    <tr>\n",
              "      <th>mean</th>\n",
              "      <td>2.542373</td>\n",
              "      <td>163.118644</td>\n",
              "      <td>7.105085</td>\n",
              "      <td>7.693220</td>\n",
              "      <td>0.762881</td>\n",
              "    </tr>\n",
              "    <tr>\n",
              "      <th>std</th>\n",
              "      <td>1.208048</td>\n",
              "      <td>55.018832</td>\n",
              "      <td>0.816938</td>\n",
              "      <td>1.361017</td>\n",
              "      <td>0.076857</td>\n",
              "    </tr>\n",
              "    <tr>\n",
              "      <th>min</th>\n",
              "      <td>1.000000</td>\n",
              "      <td>76.000000</td>\n",
              "      <td>5.800000</td>\n",
              "      <td>4.000000</td>\n",
              "      <td>0.550000</td>\n",
              "    </tr>\n",
              "    <tr>\n",
              "      <th>25%</th>\n",
              "      <td>1.000000</td>\n",
              "      <td>140.000000</td>\n",
              "      <td>6.600000</td>\n",
              "      <td>7.200000</td>\n",
              "      <td>0.720000</td>\n",
              "    </tr>\n",
              "    <tr>\n",
              "      <th>50%</th>\n",
              "      <td>3.000000</td>\n",
              "      <td>158.000000</td>\n",
              "      <td>7.200000</td>\n",
              "      <td>7.600000</td>\n",
              "      <td>0.750000</td>\n",
              "    </tr>\n",
              "    <tr>\n",
              "      <th>75%</th>\n",
              "      <td>4.000000</td>\n",
              "      <td>177.000000</td>\n",
              "      <td>7.500000</td>\n",
              "      <td>8.200000</td>\n",
              "      <td>0.810000</td>\n",
              "    </tr>\n",
              "    <tr>\n",
              "      <th>max</th>\n",
              "      <td>4.000000</td>\n",
              "      <td>362.000000</td>\n",
              "      <td>9.600000</td>\n",
              "      <td>10.500000</td>\n",
              "      <td>0.930000</td>\n",
              "    </tr>\n",
              "  </tbody>\n",
              "</table>\n",
              "</div>"
            ],
            "text/plain": [
              "       fruit_label        mass      width     height  color_score\n",
              "count    59.000000   59.000000  59.000000  59.000000    59.000000\n",
              "mean      2.542373  163.118644   7.105085   7.693220     0.762881\n",
              "std       1.208048   55.018832   0.816938   1.361017     0.076857\n",
              "min       1.000000   76.000000   5.800000   4.000000     0.550000\n",
              "25%       1.000000  140.000000   6.600000   7.200000     0.720000\n",
              "50%       3.000000  158.000000   7.200000   7.600000     0.750000\n",
              "75%       4.000000  177.000000   7.500000   8.200000     0.810000\n",
              "max       4.000000  362.000000   9.600000  10.500000     0.930000"
            ]
          },
          "metadata": {
            "tags": []
          },
          "execution_count": 20
        }
      ]
    },
    {
      "cell_type": "code",
      "metadata": {
        "colab": {
          "base_uri": "https://localhost:8080/"
        },
        "id": "-in8LjrNIfzU",
        "outputId": "80606adf-fa9c-46ca-cabc-c5edc4cac5ea"
      },
      "source": [
        "df.mean()"
      ],
      "execution_count": 21,
      "outputs": [
        {
          "output_type": "execute_result",
          "data": {
            "text/plain": [
              "fruit_label      2.542373\n",
              "mass           163.118644\n",
              "width            7.105085\n",
              "height           7.693220\n",
              "color_score      0.762881\n",
              "dtype: float64"
            ]
          },
          "metadata": {
            "tags": []
          },
          "execution_count": 21
        }
      ]
    },
    {
      "cell_type": "code",
      "metadata": {
        "colab": {
          "base_uri": "https://localhost:8080/"
        },
        "id": "We-_kC-5IfzW",
        "outputId": "cc736329-03c2-46b0-b1bf-b931f64a80d0"
      },
      "source": [
        "df.columns"
      ],
      "execution_count": 22,
      "outputs": [
        {
          "output_type": "execute_result",
          "data": {
            "text/plain": [
              "Index(['fruit_label', 'fruit_name', 'mass', 'width', 'height', 'color_score'], dtype='object')"
            ]
          },
          "metadata": {
            "tags": []
          },
          "execution_count": 22
        }
      ]
    },
    {
      "cell_type": "code",
      "metadata": {
        "colab": {
          "base_uri": "https://localhost:8080/"
        },
        "id": "2y3dTewAIfzY",
        "outputId": "b438c656-050e-4dc6-c218-b8091e2fecc0"
      },
      "source": [
        "# create a mapping from fruit label value to fruit name to make results easier to interpret\n",
        "predct = dict(zip(df.fruit_label .unique(), df.fruit_name .unique()))   \n",
        "predct\n"
      ],
      "execution_count": 23,
      "outputs": [
        {
          "output_type": "execute_result",
          "data": {
            "text/plain": [
              "{1: 'apple', 2: 'mandarin', 3: 'orange', 4: 'lemon'}"
            ]
          },
          "metadata": {
            "tags": []
          },
          "execution_count": 23
        }
      ]
    },
    {
      "cell_type": "code",
      "metadata": {
        "id": "uiGHHcvsIfzZ"
      },
      "source": [
        ""
      ],
      "execution_count": 11,
      "outputs": []
    },
    {
      "cell_type": "code",
      "metadata": {
        "colab": {
          "base_uri": "https://localhost:8080/"
        },
        "id": "wuok29sOIfzZ",
        "outputId": "fafd9fbf-ad83-47b0-8129-baed972dd374"
      },
      "source": [
        "fname = df['fruit_name'].unique()\n",
        "fname"
      ],
      "execution_count": 24,
      "outputs": [
        {
          "output_type": "execute_result",
          "data": {
            "text/plain": [
              "array(['apple', 'mandarin', 'orange', 'lemon'], dtype=object)"
            ]
          },
          "metadata": {
            "tags": []
          },
          "execution_count": 24
        }
      ]
    },
    {
      "cell_type": "code",
      "metadata": {
        "colab": {
          "base_uri": "https://localhost:8080/"
        },
        "id": "aTpG4ko3Ifzc",
        "outputId": "a7087913-633c-40ec-84ba-6bef5ebd78a3"
      },
      "source": [
        "fsize = df.groupby('fruit_name',sort = False).size()\n",
        "fsize # It contains only integer values and not names of fruits\n"
      ],
      "execution_count": 25,
      "outputs": [
        {
          "output_type": "execute_result",
          "data": {
            "text/plain": [
              "fruit_name\n",
              "apple       19\n",
              "mandarin     5\n",
              "orange      19\n",
              "lemon       16\n",
              "dtype: int64"
            ]
          },
          "metadata": {
            "tags": []
          },
          "execution_count": 25
        }
      ]
    },
    {
      "cell_type": "code",
      "metadata": {
        "colab": {
          "base_uri": "https://localhost:8080/"
        },
        "id": "c6ZGF4s0Ifzd",
        "outputId": "c907d64d-c315-4246-dab2-c5482fd24525"
      },
      "source": [
        "print(type(fsize))\n",
        "print(fsize.dtype)"
      ],
      "execution_count": 26,
      "outputs": [
        {
          "output_type": "stream",
          "text": [
            "<class 'pandas.core.series.Series'>\n",
            "int64\n"
          ],
          "name": "stdout"
        }
      ]
    },
    {
      "cell_type": "markdown",
      "metadata": {
        "id": "wqi3n2K7Ifze"
      },
      "source": [
        "# Plotting Graph"
      ]
    },
    {
      "cell_type": "code",
      "metadata": {
        "colab": {
          "base_uri": "https://localhost:8080/",
          "height": 295
        },
        "id": "Kyq7On5JIfzg",
        "outputId": "e17b0666-974c-4fff-96c7-5eb94c413bb7"
      },
      "source": [
        "import matplotlib.pyplot as plt\n",
        "\n",
        "x=df.width\n",
        "y=df.height\n",
        "plt.scatter(x, y, alpha=0.5)\n",
        "plt.title('Scatter plot')\n",
        "plt.xlabel('x')\n",
        "plt.ylabel('y')\n",
        "plt.show()"
      ],
      "execution_count": 91,
      "outputs": [
        {
          "output_type": "display_data",
          "data": {
            "image/png": "[encoded data removed]",
            "text/plain": [
              "<Figure size 432x288 with 1 Axes>"
            ]
          },
          "metadata": {
            "tags": [],
            "needs_background": "light"
          }
        }
      ]
    },
    {
      "cell_type": "code",
      "metadata": {
        "colab": {
          "base_uri": "https://localhost:8080/",
          "height": 281
        },
        "id": "Wd6EEY6iIfzi",
        "outputId": "bcc5b254-fe7e-4a8d-e72d-f75094d18cb7"
      },
      "source": [
        "a =  plt.subplot(211)\n",
        "a.scatter(df['width'],df['height'])\n",
        "a.set_title('Width vs Height')\n",
        "a =  plt.subplot(212)\n",
        "a.scatter(df['width'],df['color_score'])\n",
        "a.set_title('Width vs Colorscore')\n",
        "plt.show()"
      ],
      "execution_count": 30,
      "outputs": [
        {
          "output_type": "display_data",
          "data": {
            "image/png": "[encoded data removed]",
            "text/plain": [
              "<Figure size 432x288 with 2 Axes>"
            ]
          },
          "metadata": {
            "tags": [],
            "needs_background": "light"
          }
        }
      ]
    },
    {
      "cell_type": "markdown",
      "metadata": {
        "id": "dTpsuUIkIfzt"
      },
      "source": [
        "# Taking input and output"
      ]
    },
    {
      "cell_type": "code",
      "metadata": {
        "id": "AoWKapa2Ifzu"
      },
      "source": [
        "x = df.drop('fruit_label' ,axis = 1)\n",
        "y = df['fruit_label']"
      ],
      "execution_count": 49,
      "outputs": []
    },
    {
      "cell_type": "code",
      "metadata": {
        "id": "CDMHKHgiIfzu"
      },
      "source": [
        "from sklearn.model_selection import train_test_split"
      ],
      "execution_count": 50,
      "outputs": []
    },
    {
      "cell_type": "code",
      "metadata": {
        "id": "ud79OcbsIfzv"
      },
      "source": [
        "x_train,x_test,y_train,y_test = train_test_split(x,y,random_state=41)\n"
      ],
      "execution_count": 51,
      "outputs": []
    },
    {
      "cell_type": "markdown",
      "metadata": {
        "id": "QhAyppH3Ifzv"
      },
      "source": [
        "# Normalization using min max scaler"
      ]
    },
    {
      "cell_type": "code",
      "metadata": {
        "id": "UqhD1C9LSBb3"
      },
      "source": [
        "del df['fruit_name']"
      ],
      "execution_count": null,
      "outputs": []
    },
    {
      "cell_type": "code",
      "metadata": {
        "id": "iVZA8m8PIfzw"
      },
      "source": [
        "from sklearn.preprocessing import MinMaxScaler\n",
        "scaler = MinMaxScaler()\n",
        "x_train = scaler.fit_transform(x_train)\n",
        "x_test = scaler.transform(x_test)"
      ],
      "execution_count": 53,
      "outputs": []
    },
    {
      "cell_type": "code",
      "metadata": {
        "id": "Xobt0adHIfzx"
      },
      "source": [
        "from sklearn.neighbors import KNeighborsClassifier"
      ],
      "execution_count": 54,
      "outputs": []
    },
    {
      "cell_type": "code",
      "metadata": {
        "colab": {
          "base_uri": "https://localhost:8080/"
        },
        "id": "g3uHERlYIfzx",
        "outputId": "10766346-8fd8-492f-9f11-d16c1331e6da"
      },
      "source": [
        "x_test.shape"
      ],
      "execution_count": 55,
      "outputs": [
        {
          "output_type": "execute_result",
          "data": {
            "text/plain": [
              "(15, 4)"
            ]
          },
          "metadata": {
            "tags": []
          },
          "execution_count": 55
        }
      ]
    },
    {
      "cell_type": "code",
      "metadata": {
        "id": "pLXhFd1jIfzy"
      },
      "source": [
        "model = KNeighborsClassifier(n_neighbors = 7)"
      ],
      "execution_count": 56,
      "outputs": []
    },
    {
      "cell_type": "code",
      "metadata": {
        "colab": {
          "base_uri": "https://localhost:8080/"
        },
        "id": "KeV-F5_SIfz0",
        "outputId": "aa3dbaa4-1011-411a-9386-92c6b54586da"
      },
      "source": [
        "model.fit(x_train,y_train)"
      ],
      "execution_count": 57,
      "outputs": [
        {
          "output_type": "execute_result",
          "data": {
            "text/plain": [
              "KNeighborsClassifier(algorithm='auto', leaf_size=30, metric='minkowski',\n",
              "                     metric_params=None, n_jobs=None, n_neighbors=7, p=2,\n",
              "                     weights='uniform')"
            ]
          },
          "metadata": {
            "tags": []
          },
          "execution_count": 57
        }
      ]
    },
    {
      "cell_type": "code",
      "metadata": {
        "id": "n7RaaBtoIfz6"
      },
      "source": [
        "y_pred = model.predict(x_test)"
      ],
      "execution_count": 58,
      "outputs": []
    },
    {
      "cell_type": "code",
      "metadata": {
        "colab": {
          "base_uri": "https://localhost:8080/"
        },
        "id": "hW_SK59QIfz7",
        "outputId": "02cc765f-2cd9-4f39-ecf7-e68a172c6fe8"
      },
      "source": [
        "y_pred"
      ],
      "execution_count": 59,
      "outputs": [
        {
          "output_type": "execute_result",
          "data": {
            "text/plain": [
              "array([4, 1, 1, 4, 4, 4, 1, 3, 4, 1, 3, 3, 3, 1, 3])"
            ]
          },
          "metadata": {
            "tags": []
          },
          "execution_count": 59
        }
      ]
    },
    {
      "cell_type": "code",
      "metadata": {
        "colab": {
          "base_uri": "https://localhost:8080/"
        },
        "id": "-w0oK9gtIfz-",
        "outputId": "be77bf94-8f28-4459-cbbf-cea750f5d36b"
      },
      "source": [
        "y_test"
      ],
      "execution_count": 60,
      "outputs": [
        {
          "output_type": "execute_result",
          "data": {
            "text/plain": [
              "49    4\n",
              "9     1\n",
              "10    1\n",
              "58    4\n",
              "52    4\n",
              "46    4\n",
              "15    1\n",
              "14    1\n",
              "54    4\n",
              "8     1\n",
              "41    3\n",
              "38    3\n",
              "42    3\n",
              "31    3\n",
              "33    3\n",
              "Name: fruit_label, dtype: int64"
            ]
          },
          "metadata": {
            "tags": []
          },
          "execution_count": 60
        }
      ]
    },
    {
      "cell_type": "markdown",
      "metadata": {
        "id": "v1GU5wQ9Ifz_"
      },
      "source": [
        "# Accuray Score for classification"
      ]
    },
    {
      "cell_type": "code",
      "metadata": {
        "colab": {
          "base_uri": "https://localhost:8080/"
        },
        "id": "4_HPb-mzIf0A",
        "outputId": "52a7b4a1-a96f-424c-b74e-b05057e9e61f"
      },
      "source": [
        "from sklearn.metrics import accuracy_score\n",
        "accuracy_score(y_test,y_pred)"
      ],
      "execution_count": 76,
      "outputs": [
        {
          "output_type": "execute_result",
          "data": {
            "text/plain": [
              "0.8666666666666667"
            ]
          },
          "metadata": {
            "tags": []
          },
          "execution_count": 76
        }
      ]
    },
    {
      "cell_type": "code",
      "metadata": {
        "colab": {
          "base_uri": "https://localhost:8080/"
        },
        "id": "mQV_j48gIf0B",
        "outputId": "5ff145db-b463-48b0-e47a-5de8d1259267"
      },
      "source": [
        "\n",
        "y1 =[[176,7.4,7.2,0.60]]\n",
        "y1=scaler.transform(y1) # Seperately normalizing, very important step, without doing this, you will always get Orange as answer\n",
        "y1"
      ],
      "execution_count": 77,
      "outputs": [
        {
          "output_type": "execute_result",
          "data": {
            "text/plain": [
              "array([[0.34965035, 0.42105263, 0.49230769, 0.13513514]])"
            ]
          },
          "metadata": {
            "tags": []
          },
          "execution_count": 77
        }
      ]
    },
    {
      "cell_type": "code",
      "metadata": {
        "colab": {
          "base_uri": "https://localhost:8080/"
        },
        "id": "VFjyaNU-If0B",
        "outputId": "1084978e-ae61-4d88-85b6-c0de5452b4fd"
      },
      "source": [
        "\n",
        "y2 =[[116,6.3,7.7,0.72]]\n",
        "y2=scaler.transform(y2)\n",
        "y2"
      ],
      "execution_count": 79,
      "outputs": [
        {
          "output_type": "execute_result",
          "data": {
            "text/plain": [
              "array([[0.13986014, 0.13157895, 0.56923077, 0.45945946]])"
            ]
          },
          "metadata": {
            "tags": []
          },
          "execution_count": 79
        }
      ]
    },
    {
      "cell_type": "code",
      "metadata": {
        "colab": {
          "base_uri": "https://localhost:8080/"
        },
        "id": "C2JdWTcwIf0C",
        "outputId": "f48ef7e5-d640-4510-b56b-0a9ccd420650"
      },
      "source": [
        "y1=model.predict(y1)\n",
        "y1"
      ],
      "execution_count": 80,
      "outputs": [
        {
          "output_type": "execute_result",
          "data": {
            "text/plain": [
              "array([1])"
            ]
          },
          "metadata": {
            "tags": []
          },
          "execution_count": 80
        }
      ]
    },
    {
      "cell_type": "code",
      "metadata": {
        "colab": {
          "base_uri": "https://localhost:8080/"
        },
        "id": "EIwAthl6If0D",
        "outputId": "1d961ad6-a32f-4d88-ca3a-4a462a34848b"
      },
      "source": [
        "y2=model.predict(y2)\n",
        "y2"
      ],
      "execution_count": 81,
      "outputs": [
        {
          "output_type": "execute_result",
          "data": {
            "text/plain": [
              "array([4])"
            ]
          },
          "metadata": {
            "tags": []
          },
          "execution_count": 81
        }
      ]
    }
  ]
}